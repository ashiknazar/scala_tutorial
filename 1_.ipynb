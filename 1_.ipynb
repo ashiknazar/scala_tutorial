{
 "cells": [
  {
   "cell_type": "markdown",
   "metadata": {},
   "source": [
    "- multi paradigm \n",
    "  - oops\n",
    "  - functional programming\n",
    "  \n"
   ]
  },
  {
   "cell_type": "markdown",
   "metadata": {},
   "source": [
    "- positives\n",
    "  - type inferencing\n",
    "  - static typing\n",
    "  - function , pattern matching, clean syntax,api,currying\n",
    "  \n"
   ]
  },
  {
   "cell_type": "markdown",
   "metadata": {},
   "source": [
    "- negatives\n",
    "   - difficult\n",
    "   - hiring\n",
    "   - backward compatibility\n",
    "   "
   ]
  },
  {
   "cell_type": "markdown",
   "metadata": {},
   "source": [
    "___"
   ]
  },
  {
   "cell_type": "markdown",
   "metadata": {},
   "source": [
    "- download jdk(not jre),scala\n"
   ]
  },
  {
   "cell_type": "markdown",
   "metadata": {},
   "source": [
    "- javac -version\n",
    "- java -version\n",
    "- scalac - version\n",
    "- scala -version"
   ]
  },
  {
   "cell_type": "markdown",
   "metadata": {},
   "source": []
  }
 ],
 "metadata": {
  "language_info": {
   "name": "python"
  }
 },
 "nbformat": 4,
 "nbformat_minor": 2
}
