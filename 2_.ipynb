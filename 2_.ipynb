{
 "cells": [
  {
   "cell_type": "markdown",
   "metadata": {},
   "source": [
    "- Scala is a high-level programming language that combines\n",
    "- functional and object-oriented programming paradigms. \n",
    "- It's concise, expressive, and designed to be more powerful than Java, \n",
    "- with modern features like type inference, immutability, and functional programming constructs."
   ]
  },
  {
   "cell_type": "markdown",
   "metadata": {},
   "source": [
    "### hello world"
   ]
  },
  {
   "cell_type": "raw",
   "metadata": {
    "vscode": {
     "languageId": "raw"
    }
   },
   "source": [
    "object HelloWorld{\n",
    "  def main(args:Array[String]):Unit={\n",
    "  println(\"hello,world\")\n",
    "  }\n",
    "} "
   ]
  },
  {
   "cell_type": "markdown",
   "metadata": {},
   "source": [
    "- `object` defines a singleton object (which is a class with a single instance).\n",
    "- `def` is used to define method\n",
    "- `main` is the entry point for the program\n",
    "- `println` is used to print text\n"
   ]
  },
  {
   "cell_type": "raw",
   "metadata": {},
   "source": [
    "// Immutable variables (cannot be reassigned)\n",
    "\n",
    "val name:String=\"Alice\"\n",
    "\n",
    "//mutable variables\n",
    "\n",
    "var age:Int =25\n",
    "println(s\"Name:$name,Age:$age)"
   ]
  },
  {
   "cell_type": "markdown",
   "metadata": {},
   "source": [
    "`val` - is for immuatable variables\n",
    "`var` - is for mutable variables\n",
    "- `Int`,`Double`,`Boolean`,`String`,`Char`\n",
    "- `Option`,`List`,`Tuple`"
   ]
  },
  {
   "cell_type": "raw",
   "metadata": {
    "vscode": {
     "languageId": "raw"
    }
   },
   "source": [
    "val age=18\n",
    "\n",
    "if (age>=18){\n",
    "println(\"adult\")\n",
    "}else {\n",
    "println(\"minor\")\n",
    "}"
   ]
  },
  {
   "cell_type": "raw",
   "metadata": {
    "vscode": {
     "languageId": "raw"
    }
   },
   "source": [
    "for(i <- 1 to 5){\n",
    "println(i)\n",
    "}"
   ]
  },
  {
   "cell_type": "raw",
   "metadata": {
    "vscode": {
     "languageId": "raw"
    }
   },
   "source": [
    "var i=0\n",
    "while(i<5){\n",
    "println(i)\n",
    "i+=1\n",
    "}"
   ]
  },
  {
   "cell_type": "raw",
   "metadata": {
    "vscode": {
     "languageId": "raw"
    }
   },
   "source": [
    "def greet(name:String):String={\n",
    " s\"Hello,$name\"\n",
    "}\n"
   ]
  },
  {
   "cell_type": "markdown",
   "metadata": {},
   "source": [
    "#### lambda (anonymous functions)\n"
   ]
  },
  {
   "cell_type": "raw",
   "metadata": {
    "vscode": {
     "languageId": "raw"
    }
   },
   "source": [
    "val square=(x:Int) => x*x\n",
    "println(square(5))"
   ]
  },
  {
   "cell_type": "markdown",
   "metadata": {
    "vscode": {
     "languageId": "raw"
    }
   },
   "source": [
    "#### collections"
   ]
  },
  {
   "cell_type": "markdown",
   "metadata": {},
   "source": [
    "- List(Immutable)"
   ]
  },
  {
   "cell_type": "raw",
   "metadata": {},
   "source": [
    "val fruits=List(\"Apple\",\"Banana\",\"cherry\")\n",
    "println(fruits.head)\n",
    "println(fruits.tail)"
   ]
  },
  {
   "cell_type": "markdown",
   "metadata": {
    "vscode": {
     "languageId": "raw"
    }
   },
   "source": [
    "- map(immutable)"
   ]
  },
  {
   "cell_type": "raw",
   "metadata": {
    "vscode": {
     "languageId": "raw"
    }
   },
   "source": [
    "val capitals = Map(\"France\" -> \"Paris\", \"Germany\" -> \"Berlin\")\n",
    "println(capitals(\"France\")) // Output: Paris\n"
   ]
  },
  {
   "cell_type": "markdown",
   "metadata": {},
   "source": [
    "- Set (Immutable):"
   ]
  },
  {
   "cell_type": "raw",
   "metadata": {
    "vscode": {
     "languageId": "raw"
    }
   },
   "source": [
    "val numbers = Set(1, 2, 3, 4, 5)\n",
    "println(numbers.contains(3))  // Output: true\n"
   ]
  },
  {
   "cell_type": "markdown",
   "metadata": {},
   "source": [
    "###  Object-Oriented Programming in Scala"
   ]
  },
  {
   "cell_type": "raw",
   "metadata": {
    "vscode": {
     "languageId": "raw"
    }
   },
   "source": [
    "class Person(val name: String, var age: Int) {\n",
    "  def greet(): String = {\n",
    "    s\"Hello, my name is $name, and I am $age years old.\"\n",
    "  }\n",
    "}\n",
    "\n",
    "val person = new Person(\"Alice\", 25)\n",
    "println(person.greet())\n"
   ]
  },
  {
   "cell_type": "markdown",
   "metadata": {},
   "source": [
    "### inheritance"
   ]
  },
  {
   "cell_type": "raw",
   "metadata": {
    "vscode": {
     "languageId": "raw"
    }
   },
   "source": [
    "class Animal {\n",
    "  def sound() = \"Some sound\"\n",
    "}\n",
    "\n",
    "class Dog extends Animal {\n",
    "  override def sound() = \"Bark\"\n",
    "}\n",
    "\n",
    "val dog = new Dog()\n",
    "println(dog.sound())  // Output: Bark\n"
   ]
  },
  {
   "cell_type": "markdown",
   "metadata": {},
   "source": [
    "#### Traits (Similar to Interfaces):"
   ]
  },
  {
   "cell_type": "raw",
   "metadata": {
    "vscode": {
     "languageId": "raw"
    }
   },
   "source": [
    "trait Flyable {\n",
    "  def fly(): Unit = println(\"Flying!\")\n",
    "}\n",
    "\n",
    "class Bird extends Flyable {\n",
    "  def chirp(): Unit = println(\"Chirp chirp!\")\n",
    "}\n",
    "\n",
    "val bird = new Bird()\n",
    "bird.fly()   // Output: Flying!\n",
    "bird.chirp() // Output: Chirp chirp!\n"
   ]
  },
  {
   "cell_type": "markdown",
   "metadata": {},
   "source": [
    "####  Pattern Matching\n",
    "Pattern matching is a powerful feature in Scala, similar to a switch statement in other languages but much more flexible."
   ]
  },
  {
   "cell_type": "raw",
   "metadata": {
    "vscode": {
     "languageId": "raw"
    }
   },
   "source": [
    "val day = \"Monday\"\n",
    "\n",
    "day match {\n",
    "  case \"Monday\" => println(\"Start of the week!\")\n",
    "  case \"Friday\" => println(\"Almost weekend!\")\n",
    "  case _ => println(\"Just another day!\")\n",
    "}\n"
   ]
  },
  {
   "cell_type": "markdown",
   "metadata": {},
   "source": [
    "### Option Type\n",
    "Scala has an `Option` type that represents optional values (can be `Some` or `None`)."
   ]
  },
  {
   "cell_type": "raw",
   "metadata": {
    "vscode": {
     "languageId": "raw"
    }
   },
   "source": [
    "val name: Option[String] = Some(\"Alice\")\n",
    "val age: Option[Int] = None\n",
    "\n",
    "name match {\n",
    "  case Some(n) => println(s\"Name is $n\")\n",
    "  case None => println(\"No name provided\")\n",
    "}\n",
    "\n",
    "age match {\n",
    "  case Some(a) => println(s\"Age is $a\")\n",
    "  case None => println(\"No age provided\")\n",
    "}\n"
   ]
  },
  {
   "cell_type": "raw",
   "metadata": {},
   "source": []
  }
 ],
 "metadata": {
  "kernelspec": {
   "display_name": "base",
   "language": "python",
   "name": "python3"
  },
  "language_info": {
   "codemirror_mode": {
    "name": "ipython",
    "version": 3
   },
   "file_extension": ".py",
   "mimetype": "text/x-python",
   "name": "python",
   "nbconvert_exporter": "python",
   "pygments_lexer": "ipython3",
   "version": "3.12.7"
  }
 },
 "nbformat": 4,
 "nbformat_minor": 2
}
